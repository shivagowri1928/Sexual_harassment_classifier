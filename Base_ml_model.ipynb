{
 "cells": [
  {
   "cell_type": "code",
   "execution_count": 43,
   "id": "3cc2033c",
   "metadata": {},
   "outputs": [],
   "source": [
    "import numpy as np\n",
    "import pandas as pd\n",
    "import matplotlib.pyplot as plt\n",
    "import seaborn as sns"
   ]
  },
  {
   "cell_type": "markdown",
   "id": "87608be2",
   "metadata": {},
   "source": [
    "## Ogling dataset"
   ]
  },
  {
   "cell_type": "code",
   "execution_count": 44,
   "id": "e6b6e7b5",
   "metadata": {},
   "outputs": [],
   "source": [
    "df_train_og = pd.read_csv(r'C:\\Users\\Likhith\\Desktop\\hackviolet\\binary_classification\\ogling_data\\train.csv')\n",
    "df_test_og = pd.read_csv(r'C:\\Users\\Likhith\\Desktop\\hackviolet\\binary_classification\\ogling_data\\test.csv')\n",
    "df_valid_og = pd.read_csv(r'C:\\Users\\Likhith\\Desktop\\hackviolet\\binary_classification\\ogling_data\\dev.csv')"
   ]
  },
  {
   "cell_type": "code",
   "execution_count": 45,
   "id": "2c052f34",
   "metadata": {},
   "outputs": [],
   "source": [
    "def append_len(data):\n",
    "    s = []\n",
    "    for i in data['Description']:\n",
    "        s.append(len(i))\n",
    "    return s"
   ]
  },
  {
   "cell_type": "code",
   "execution_count": 46,
   "id": "cb51c49a",
   "metadata": {},
   "outputs": [
    {
     "data": {
      "text/html": [
       "<div>\n",
       "<style scoped>\n",
       "    .dataframe tbody tr th:only-of-type {\n",
       "        vertical-align: middle;\n",
       "    }\n",
       "\n",
       "    .dataframe tbody tr th {\n",
       "        vertical-align: top;\n",
       "    }\n",
       "\n",
       "    .dataframe thead th {\n",
       "        text-align: right;\n",
       "    }\n",
       "</style>\n",
       "<table border=\"1\" class=\"dataframe\">\n",
       "  <thead>\n",
       "    <tr style=\"text-align: right;\">\n",
       "      <th></th>\n",
       "      <th>Description</th>\n",
       "      <th>Category</th>\n",
       "    </tr>\n",
       "  </thead>\n",
       "  <tbody>\n",
       "    <tr>\n",
       "      <th>0</th>\n",
       "      <td>Was walking along crowded street, holding mums...</td>\n",
       "      <td>0</td>\n",
       "    </tr>\n",
       "    <tr>\n",
       "      <th>1</th>\n",
       "      <td>This incident took place in the evening.I was ...</td>\n",
       "      <td>1</td>\n",
       "    </tr>\n",
       "    <tr>\n",
       "      <th>2</th>\n",
       "      <td>I WAS WAITING FOR THE BUS. A MAN CAME ON A BIK...</td>\n",
       "      <td>0</td>\n",
       "    </tr>\n",
       "    <tr>\n",
       "      <th>3</th>\n",
       "      <td>Incident happened inside the train</td>\n",
       "      <td>0</td>\n",
       "    </tr>\n",
       "    <tr>\n",
       "      <th>4</th>\n",
       "      <td>I witnessed an incident when a chain was bruta...</td>\n",
       "      <td>0</td>\n",
       "    </tr>\n",
       "  </tbody>\n",
       "</table>\n",
       "</div>"
      ],
      "text/plain": [
       "                                         Description  Category\n",
       "0  Was walking along crowded street, holding mums...         0\n",
       "1  This incident took place in the evening.I was ...         1\n",
       "2  I WAS WAITING FOR THE BUS. A MAN CAME ON A BIK...         0\n",
       "3                 Incident happened inside the train         0\n",
       "4  I witnessed an incident when a chain was bruta...         0"
      ]
     },
     "execution_count": 46,
     "metadata": {},
     "output_type": "execute_result"
    }
   ],
   "source": [
    "df_train_og.head(5)"
   ]
  },
  {
   "cell_type": "code",
   "execution_count": 47,
   "id": "983dd857",
   "metadata": {},
   "outputs": [
    {
     "name": "stdout",
     "output_type": "stream",
     "text": [
      "\n",
      " Length of \n",
      " train dataset is 7201, \n",
      " test dataset is 1701, \n",
      " validation data is 990\n"
     ]
    }
   ],
   "source": [
    "print('\\n Length of \\n train dataset is {}, \\n test dataset is {}, \\n validation data is {}'.format(len(df_train_og),len(df_test_og),len(df_valid_og)))"
   ]
  },
  {
   "cell_type": "code",
   "execution_count": 48,
   "id": "9fa4c983",
   "metadata": {},
   "outputs": [],
   "source": [
    "def calculate_len(data):#function to calculate average sentence length of description field\n",
    "  m = 0\n",
    "  for i in data['Description']:\n",
    "      m += len(i)\n",
    "  return (m/len(data))"
   ]
  },
  {
   "cell_type": "code",
   "execution_count": 49,
   "id": "f55f1595",
   "metadata": {},
   "outputs": [
    {
     "name": "stdout",
     "output_type": "stream",
     "text": [
      "\n",
      " Average Length of Description \n",
      " train dataset is 124.02735731148452, \n",
      " test dataset is 119.8559670781893, \n",
      " validation data is 114.04646464646464\n"
     ]
    }
   ],
   "source": [
    "print('\\n Average Length of Description \\n train dataset is {}, \\n test dataset is {}, \\n validation data is {}'.format(calculate_len(df_train_og),calculate_len(df_test_og),calculate_len(df_valid_og)))"
   ]
  },
  {
   "cell_type": "code",
   "execution_count": 50,
   "id": "6eb9030a",
   "metadata": {},
   "outputs": [
    {
     "data": {
      "text/plain": [
       "Text(0.5, 1.0, 'Valid Dataset')"
      ]
     },
     "execution_count": 50,
     "metadata": {},
     "output_type": "execute_result"
    },
    {
     "data": {
      "image/png": "[encoded data removed]",
      "text/plain": [
       "<Figure size 640x480 with 3 Axes>"
      ]
     },
     "metadata": {
      "needs_background": "light"
     },
     "output_type": "display_data"
    }
   ],
   "source": [
    "from matplotlib.pyplot import figure\n",
    "figure(figsize=(8, 6), dpi=80)\n",
    "plt.subplot(311)\n",
    "ax1 = sns.countplot(x=\"Category\", data=df_train_og)\n",
    "ax1.set_title('Train Dataset')\n",
    "plt.subplot(312)\n",
    "ax2 = sns.countplot(x=\"Category\", data=df_test_og)\n",
    "ax2.set_title('Test Dataset')\n",
    "plt.subplot(313)\n",
    "ax3 = sns.countplot(x=\"Category\", data=df_valid_og)\n",
    "ax3.set_title('Valid Dataset')"
   ]
  },
  {
   "cell_type": "code",
   "execution_count": 51,
   "id": "438a3022",
   "metadata": {},
   "outputs": [
    {
     "name": "stdout",
     "output_type": "stream",
     "text": [
      "Number of duplicate rows 500\n",
      "                                            Description  Category\n",
      "139                                          harassment         0\n",
      "199                                          misbehaved         0\n",
      "288                                          harassment         1\n",
      "367                                          misbehaved         0\n",
      "388   This survey is carried out by safecity (Red do...         1\n",
      "...                                                 ...       ...\n",
      "7119                                         misbehaved         0\n",
      "7150                                happened in morning         0\n",
      "7175                                         misbehaved         1\n",
      "7182                            harrased in the evening         0\n",
      "7184  When I was 9 years old I was sexually harassed...         0\n",
      "\n",
      "[500 rows x 2 columns]\n"
     ]
    }
   ],
   "source": [
    "def chk_duplicate(data):\n",
    "  df = data[data.duplicated()]\n",
    "  return df,len(df)\n",
    "train_duplicate,count = chk_duplicate(df_train_og)\n",
    "print('Number of duplicate rows',count)\n",
    "print(train_duplicate)"
   ]
  },
  {
   "cell_type": "code",
   "execution_count": 52,
   "id": "65623e6b",
   "metadata": {},
   "outputs": [
    {
     "name": "stdout",
     "output_type": "stream",
     "text": [
      "Number of duplicate rows 81\n",
      "                                            Description  Category\n",
      "99          I was standing when a neighbour spanked me.         0\n",
      "101                                          harassment         0\n",
      "150                                          harassment         0\n",
      "165                                   Touching, groping         0\n",
      "270                                  it was really bad.         0\n",
      "...                                                 ...       ...\n",
      "1606                                           stalking         0\n",
      "1630                                         harassment         1\n",
      "1636  This survey is carried out by safecity (Red Do...         1\n",
      "1637                                 it was really bad.         1\n",
      "1663                                    chain snatching         0\n",
      "\n",
      "[81 rows x 2 columns]\n"
     ]
    }
   ],
   "source": [
    "test_duplicate,count = chk_duplicate(df_test_og)\n",
    "print('Number of duplicate rows',count)\n",
    "print(test_duplicate)"
   ]
  },
  {
   "cell_type": "code",
   "execution_count": 53,
   "id": "34ff7122",
   "metadata": {},
   "outputs": [
    {
     "name": "stdout",
     "output_type": "stream",
     "text": [
      "Number of duplicate rows 44\n",
      "                                           Description  Category\n",
      "54                                  it was really bad.         1\n",
      "128                                         harassment         0\n",
      "213                                 it was really bad.         1\n",
      "267                                         harassment         0\n",
      "269                                         misbehaved         1\n",
      "270                                         misbehaved         0\n",
      "304                                         harassment         0\n",
      "352                                         harassment         0\n",
      "372                                         misbehaved         0\n",
      "377                                          following         0\n",
      "379                                         harassment         0\n",
      "396                                         misbehaved         1\n",
      "397                                         misbehaved         0\n",
      "462                                 it was really bad.         0\n",
      "563  This survey is carried out by safecity (Red do...         1\n",
      "564                                         harassment         0\n",
      "569                                         misbehaved         0\n",
      "575                                         commenting         1\n",
      "586                                         harassment         0\n",
      "611                                         harassment         0\n",
      "639  This survey is carried out by safecity (Red Do...         1\n",
      "660                                         harassment         0\n",
      "690  This survey is carried out by safecity (Red Do...         0\n",
      "700                                         misbehaved         0\n",
      "713                                         harassment         0\n",
      "715                                 it was really bad.         0\n",
      "738                                 it was really bad.         0\n",
      "757  Around 6 months back a boy followed me in the ...         0\n",
      "772                                         harassment         1\n",
      "780                                         harassment         0\n",
      "782                                 it was really bad.         0\n",
      "801  This happened with my friend around 6 months b...         0\n",
      "807                                 it was really bad.         1\n",
      "815  Touching/Groping, Commenting, Ogling, Sexual I...         1\n",
      "835                                            groping         0\n",
      "895  This survey is carried out by safecity (Red Do...         0\n",
      "899                                            staring         1\n",
      "908                                         harassment         1\n",
      "923                                 it was really bad.         1\n",
      "926                            stalking and commenting         0\n",
      "930                                         harassment         0\n",
      "938                                 it was really bad.         0\n",
      "949                                         misbehaved         1\n",
      "972                                         harassment         0\n"
     ]
    }
   ],
   "source": [
    "valid_duplicate,count = chk_duplicate(df_valid_og)\n",
    "print('Number of duplicate rows',count)\n",
    "print(valid_duplicate)"
   ]
  },
  {
   "cell_type": "markdown",
   "id": "1a14529c",
   "metadata": {},
   "source": [
    "### Commenting dataset"
   ]
  },
  {
   "cell_type": "code",
   "execution_count": 54,
   "id": "61a7feaf",
   "metadata": {},
   "outputs": [],
   "source": [
    "df_train_co = pd.read_csv(r'C:\\Users\\Likhith\\Desktop\\hackviolet\\binary_classification\\Commenting_data/train.csv')\n",
    "df_test_co = pd.read_csv(r'C:\\Users\\Likhith\\Desktop\\hackviolet\\binary_classification\\Commenting_data/test.csv')\n",
    "df_valid_co = pd.read_csv(r'C:\\Users\\Likhith\\Desktop\\hackviolet\\binary_classification\\Commenting_data/dev.csv')"
   ]
  },
  {
   "cell_type": "code",
   "execution_count": 55,
   "id": "d7076dc8",
   "metadata": {},
   "outputs": [
    {
     "name": "stdout",
     "output_type": "stream",
     "text": [
      "\n",
      " Average Length of Description \n",
      " train dataset is 124.02735731148452, \n",
      " test dataset is 119.8559670781893, \n",
      " validation data is 114.04646464646464\n"
     ]
    }
   ],
   "source": [
    "print('\\n Average Length of Description \\n train dataset is {}, \\n test dataset is {}, \\n validation data is {}'.format(calculate_len(df_train_co),calculate_len(df_test_co),calculate_len(df_valid_co)))"
   ]
  },
  {
   "cell_type": "code",
   "execution_count": 56,
   "id": "4c7f3f4c",
   "metadata": {},
   "outputs": [
    {
     "data": {
      "text/plain": [
       "Text(0.5, 1.0, 'Valid Dataset')"
      ]
     },
     "execution_count": 56,
     "metadata": {},
     "output_type": "execute_result"
    },
    {
     "data": {
      "image/png": "[encoded data removed]",
      "text/plain": [
       "<Figure size 640x480 with 3 Axes>"
      ]
     },
     "metadata": {
      "needs_background": "light"
     },
     "output_type": "display_data"
    }
   ],
   "source": [
    "figure(figsize=(8, 6), dpi=80)\n",
    "plt.subplot(311)\n",
    "ax1 = sns.countplot(x=\"Category\", data=df_train_co)\n",
    "ax1.set_title('Train Dataset')\n",
    "plt.subplot(312)\n",
    "ax2 = sns.countplot(x=\"Category\", data=df_test_co)\n",
    "ax2.set_title('Test Dataset')\n",
    "plt.subplot(313)\n",
    "ax3 = sns.countplot(x=\"Category\", data=df_valid_co)\n",
    "ax3.set_title('Valid Dataset')"
   ]
  },
  {
   "cell_type": "code",
   "execution_count": 57,
   "id": "0d3857ee",
   "metadata": {},
   "outputs": [
    {
     "name": "stdout",
     "output_type": "stream",
     "text": [
      "Number of duplicate rows 497\n",
      "                                            Description  Category\n",
      "139                                          harassment         0\n",
      "288                                          harassment         0\n",
      "367                                          misbehaved         0\n",
      "388   This survey is carried out by safecity (Red do...         1\n",
      "447                                  it was really bad.         1\n",
      "...                                                 ...       ...\n",
      "7119                                         misbehaved         1\n",
      "7150                                happened in morning         1\n",
      "7170                             Staring and commenting         1\n",
      "7175                                         misbehaved         1\n",
      "7186                                           Elbowing         0\n",
      "\n",
      "[497 rows x 2 columns]\n",
      "Number of duplicate rows 85\n",
      "                                            Description  Category\n",
      "99          I was standing when a neighbour spanked me.         0\n",
      "150                                          harassment         1\n",
      "162   This survey is carried out by safecity (Red Do...         1\n",
      "165                                   Touching, groping         0\n",
      "270                                  it was really bad.         1\n",
      "...                                                 ...       ...\n",
      "1620                                        Eve teasing         1\n",
      "1630                                         harassment         1\n",
      "1636  This survey is carried out by safecity (Red Do...         1\n",
      "1637                                 it was really bad.         1\n",
      "1663                                    chain snatching         0\n",
      "\n",
      "[85 rows x 2 columns]\n",
      "Number of duplicate rows 43\n",
      "                                           Description  Category\n",
      "54                                  it was really bad.         1\n",
      "146                                         harassment         1\n",
      "179                                 it was really bad.         1\n",
      "213                                 it was really bad.         1\n",
      "267                                         harassment         1\n",
      "269                                         misbehaved         1\n",
      "270                                         misbehaved         0\n",
      "304                                         harassment         0\n",
      "352                                         harassment         0\n",
      "372                                         misbehaved         1\n",
      "377                                          following         0\n",
      "379                                         harassment         0\n",
      "396                                         misbehaved         1\n",
      "397                                         misbehaved         1\n",
      "563  This survey is carried out by safecity (Red do...         1\n",
      "564                                         harassment         1\n",
      "569                                         misbehaved         1\n",
      "575                                         commenting         1\n",
      "586                                         harassment         1\n",
      "611                                         harassment         1\n",
      "639  This survey is carried out by safecity (Red Do...         1\n",
      "646                      It was a very bad experience.         1\n",
      "660                                         harassment         1\n",
      "690  This survey is carried out by safecity (Red Do...         1\n",
      "700                                         misbehaved         1\n",
      "713                                         harassment         0\n",
      "715                                 it was really bad.         0\n",
      "738                                 it was really bad.         1\n",
      "757  Around 6 months back a boy followed me in the ...         0\n",
      "772                                         harassment         0\n",
      "780                                         harassment         0\n",
      "782                                 it was really bad.         1\n",
      "801  This happened with my friend around 6 months b...         1\n",
      "807                                 it was really bad.         1\n",
      "815  Touching/Groping, Commenting, Ogling, Sexual I...         1\n",
      "895  This survey is carried out by safecity (Red Do...         0\n",
      "908                                         harassment         1\n",
      "923                                 it was really bad.         1\n",
      "926                            stalking and commenting         1\n",
      "930                                         harassment         1\n",
      "938                                 it was really bad.         1\n",
      "949                                         misbehaved         1\n",
      "972                                         harassment         1\n"
     ]
    }
   ],
   "source": [
    "train_duplicate_co,count = chk_duplicate(df_train_co)\n",
    "print('Number of duplicate rows',count)\n",
    "print(train_duplicate_co)\n",
    "test_duplicate_co,count = chk_duplicate(df_test_co)\n",
    "print('Number of duplicate rows',count)\n",
    "print(test_duplicate_co)\n",
    "valid_duplicate_co,count = chk_duplicate(df_valid_co)\n",
    "print('Number of duplicate rows',count)\n",
    "print(valid_duplicate_co)"
   ]
  },
  {
   "cell_type": "markdown",
   "id": "e6cf3bea",
   "metadata": {},
   "source": [
    "### Grouping dataset"
   ]
  },
  {
   "cell_type": "code",
   "execution_count": 58,
   "id": "107d647c",
   "metadata": {},
   "outputs": [],
   "source": [
    "df_train_go = pd.read_csv(r'C:\\Users\\Likhith\\Desktop\\hackviolet\\binary_classification\\Groping_data/train.csv')\n",
    "df_test_go = pd.read_csv(r'C:\\Users\\Likhith\\Desktop\\hackviolet\\binary_classification\\Groping_data/test.csv')\n",
    "df_valid_go = pd.read_csv(r'C:\\Users\\Likhith\\Desktop\\hackviolet\\binary_classification\\Groping_data/dev.csv')"
   ]
  },
  {
   "cell_type": "code",
   "execution_count": 59,
   "id": "4ce4076d",
   "metadata": {},
   "outputs": [
    {
     "data": {
      "text/plain": [
       "Text(0.5, 1.0, 'Valid Dataset')"
      ]
     },
     "execution_count": 59,
     "metadata": {},
     "output_type": "execute_result"
    },
    {
     "data": {
      "image/png": "[encoded data removed]",
      "text/plain": [
       "<Figure size 640x480 with 3 Axes>"
      ]
     },
     "metadata": {
      "needs_background": "light"
     },
     "output_type": "display_data"
    }
   ],
   "source": [
    "figure(figsize=(8, 6), dpi=80)\n",
    "plt.subplot(311)\n",
    "ax1 = sns.countplot(x=\"Category\", data=df_train_go)\n",
    "ax1.set_title('Train Dataset')\n",
    "plt.subplot(312)\n",
    "ax2 = sns.countplot(x=\"Category\", data=df_test_go)\n",
    "ax2.set_title('Test Dataset')\n",
    "plt.subplot(313)\n",
    "ax3 = sns.countplot(x=\"Category\", data=df_valid_go)\n",
    "ax3.set_title('Valid Dataset')\n"
   ]
  },
  {
   "cell_type": "code",
   "execution_count": 60,
   "id": "47beba89",
   "metadata": {},
   "outputs": [
    {
     "name": "stdout",
     "output_type": "stream",
     "text": [
      "Number of duplicate rows 512\n",
      "                                            Description  Category\n",
      "40                                           harassment         0\n",
      "139                                          harassment         0\n",
      "367                                          misbehaved         0\n",
      "388   This survey is carried out by safecity (Red do...         1\n",
      "447                                  it was really bad.         0\n",
      "...                                                 ...       ...\n",
      "7150                                happened in morning         0\n",
      "7170                             Staring and commenting         0\n",
      "7175                                         misbehaved         0\n",
      "7184  When I was 9 years old I was sexually harassed...         0\n",
      "7186                                           Elbowing         1\n",
      "\n",
      "[512 rows x 2 columns]\n",
      "Number of duplicate rows 84\n",
      "                                            Description  Category\n",
      "99          I was standing when a neighbour spanked me.         1\n",
      "150                                          harassment         0\n",
      "165                                   Touching, groping         1\n",
      "257                                 happened in evening         0\n",
      "270                                  it was really bad.         0\n",
      "...                                                 ...       ...\n",
      "1606                                           stalking         0\n",
      "1630                                         harassment         0\n",
      "1636  This survey is carried out by safecity (Red Do...         1\n",
      "1637                                 it was really bad.         0\n",
      "1663                                    chain snatching         0\n",
      "\n",
      "[84 rows x 2 columns]\n",
      "Number of duplicate rows 46\n",
      "                                           Description  Category\n",
      "54                                  it was really bad.         0\n",
      "128                                         harassment         0\n",
      "146                                         harassment         0\n",
      "213                                 it was really bad.         0\n",
      "267                                         harassment         0\n",
      "269                                         misbehaved         1\n",
      "270                                         misbehaved         0\n",
      "352                                         harassment         1\n",
      "372                                         misbehaved         0\n",
      "377                                          following         0\n",
      "379                                         harassment         0\n",
      "396                                         misbehaved         1\n",
      "397                                         misbehaved         0\n",
      "462                                 it was really bad.         0\n",
      "466                                         commenting         0\n",
      "563  This survey is carried out by safecity (Red do...         1\n",
      "564                                         harassment         0\n",
      "569                                         misbehaved         0\n",
      "575                                         commenting         0\n",
      "585  This survey is carried out by safecity (Red Do...         0\n",
      "586                                         harassment         1\n",
      "611                                         harassment         0\n",
      "646                      It was a very bad experience.         0\n",
      "660                                         harassment         1\n",
      "690  This survey is carried out by safecity (Red Do...         0\n",
      "700                                         misbehaved         0\n",
      "713                                         harassment         0\n",
      "715                                 it was really bad.         1\n",
      "738                                 it was really bad.         0\n",
      "757  Around 6 months back a boy followed me in the ...         0\n",
      "772                                         harassment         1\n",
      "780                                         harassment         1\n",
      "782                                 it was really bad.         0\n",
      "801  This happened with my friend around 6 months b...         0\n",
      "807                                 it was really bad.         0\n",
      "815  Touching/Groping, Commenting, Ogling, Sexual I...         1\n",
      "835                                            groping         1\n",
      "895  This survey is carried out by safecity (Red Do...         1\n",
      "899                                            staring         0\n",
      "908                                         harassment         1\n",
      "923                                 it was really bad.         0\n",
      "926                            stalking and commenting         0\n",
      "930                                         harassment         1\n",
      "938                                 it was really bad.         0\n",
      "949                                         misbehaved         1\n",
      "972                                         harassment         0\n"
     ]
    }
   ],
   "source": [
    "train_duplicate_go,count = chk_duplicate(df_train_go)\n",
    "print('Number of duplicate rows',count)\n",
    "print(train_duplicate_go)\n",
    "test_duplicate_go,count = chk_duplicate(df_test_go)\n",
    "print('Number of duplicate rows',count)\n",
    "print(test_duplicate_go)\n",
    "valid_duplicate_go,count = chk_duplicate(df_valid_go)\n",
    "print('Number of duplicate rows',count)\n",
    "print(valid_duplicate_go)"
   ]
  },
  {
   "cell_type": "code",
   "execution_count": 61,
   "id": "c4833d68",
   "metadata": {},
   "outputs": [],
   "source": [
    "df_train_og.drop_duplicates(subset=\"Description\",keep= False, inplace = True)\n",
    "df_train_go.drop_duplicates(subset=\"Description\",keep= False, inplace = True)\n",
    "df_train_co.drop_duplicates(subset=\"Description\",keep= False, inplace = True)\n"
   ]
  },
  {
   "cell_type": "code",
   "execution_count": 62,
   "id": "c6a0861b",
   "metadata": {},
   "outputs": [],
   "source": [
    "puncts = [',', '.', '\"', ':', ')', '(', '-', '!', '?', '|', ';', \"'\", '$', '&', '/', '[', ']', '>', '%', '=', '#', '*', '+', '\\\\', '•',  '~', '@', '£',\n",
    " '·', '_', '{', '}', '©', '^', '®', '`',  '<', '→', '°', '€', '™', '›',  '♥', '←', '×', '§', '″', '′', 'Â', '█', '½', 'à', '…',\n",
    " '“', '★', '”', '–', '●', 'â', '►', '−', '¢', '²', '¬', '░', '¶', '↑', '±', '¿', '▾', '═', '¦', '║', '―', '¥', '▓', '—', '‹', '─',\n",
    " '▒', '：', '¼', '⊕', '▼', '▪', '†', '■', '’', '▀', '¨', '▄', '♫', '☆', 'é', '¯', '♦', '¤', '▲', 'è', '¸', '¾', 'Ã', '⋅', '‘', '∞',\n",
    " '∙', '）', '↓', '、', '│', '（', '»', '，', '♪', '╩', '╚', '³', '・', '╦', '╣', '╔', '╗', '▬', '❤', 'ï', 'Ø', '¹', '≤', '‡', '√', ]\n",
    "\n",
    "def clean_text(data):\n",
    "    stop = stopwords.words('english')\n",
    "    res = []\n",
    "    data['Description'] = data['Description'].apply(lambda x: ' '.join([word for word in x.split() if word not in (stop)]))\n",
    "    for x in data['Description']:\n",
    "        x = str(x)\n",
    "        for punct in puncts:\n",
    "            if punct in x:\n",
    "                    x = x.replace(punct,' ')\n",
    "        res.append(x)\n",
    "    return res"
   ]
  },
  {
   "cell_type": "code",
   "execution_count": 63,
   "id": "cfd4d272",
   "metadata": {},
   "outputs": [
    {
     "name": "stderr",
     "output_type": "stream",
     "text": [
      "[nltk_data] Downloading package stopwords to\n",
      "[nltk_data]     C:\\Users\\Likhith\\AppData\\Roaming\\nltk_data...\n",
      "[nltk_data]   Package stopwords is already up-to-date!\n"
     ]
    }
   ],
   "source": [
    "import nltk\n",
    "nltk.download('stopwords')\n",
    "from nltk.corpus import stopwords\n",
    "\n",
    "df_train_og['Description'] = clean_text(df_train_og)\n",
    "df_test_og['Description'] = clean_text(df_test_og)\n",
    "df_train_go['Description'] = clean_text(df_train_go)\n",
    "df_test_go['Description'] = clean_text(df_test_go)\n",
    "df_train_co['Description'] = clean_text(df_train_co)\n",
    "df_test_co['Description'] = clean_text(df_test_co)\n"
   ]
  },
  {
   "cell_type": "code",
   "execution_count": 64,
   "id": "c1c42712",
   "metadata": {},
   "outputs": [],
   "source": [
    "def preprocess(data):\n",
    "  res = []\n",
    "  for i in data['Description']:\n",
    "    k = i.lower()\n",
    "    res.append(k)\n",
    "  return res"
   ]
  },
  {
   "cell_type": "code",
   "execution_count": 65,
   "id": "55e6e716",
   "metadata": {},
   "outputs": [],
   "source": [
    "df_train_og['lower'] = preprocess(df_train_og)\n",
    "df_test_og['lower'] = preprocess(df_test_og)"
   ]
  },
  {
   "cell_type": "code",
   "execution_count": 66,
   "id": "6ca6c76f",
   "metadata": {},
   "outputs": [],
   "source": [
    "df_train_og = df_train_og.drop(['Description'],axis=1)\n",
    "df_test_og = df_test_og.drop(['Description'],axis=1)"
   ]
  },
  {
   "cell_type": "markdown",
   "id": "5c62cb1e",
   "metadata": {},
   "source": [
    "### Baseline Logistic Regression model"
   ]
  },
  {
   "cell_type": "code",
   "execution_count": 67,
   "id": "61b610eb",
   "metadata": {},
   "outputs": [
    {
     "data": {
      "text/html": [
       "<div>\n",
       "<style scoped>\n",
       "    .dataframe tbody tr th:only-of-type {\n",
       "        vertical-align: middle;\n",
       "    }\n",
       "\n",
       "    .dataframe tbody tr th {\n",
       "        vertical-align: top;\n",
       "    }\n",
       "\n",
       "    .dataframe thead th {\n",
       "        text-align: right;\n",
       "    }\n",
       "</style>\n",
       "<table border=\"1\" class=\"dataframe\">\n",
       "  <thead>\n",
       "    <tr style=\"text-align: right;\">\n",
       "      <th></th>\n",
       "      <th>Category</th>\n",
       "      <th>lower</th>\n",
       "    </tr>\n",
       "  </thead>\n",
       "  <tbody>\n",
       "    <tr>\n",
       "      <th>0</th>\n",
       "      <td>0</td>\n",
       "      <td>was walking along crowded street  holding mums...</td>\n",
       "    </tr>\n",
       "    <tr>\n",
       "      <th>1</th>\n",
       "      <td>1</td>\n",
       "      <td>this incident took place evening i metro two g...</td>\n",
       "    </tr>\n",
       "    <tr>\n",
       "      <th>2</th>\n",
       "      <td>0</td>\n",
       "      <td>i was waiting for the bus  a man came on a bik...</td>\n",
       "    </tr>\n",
       "    <tr>\n",
       "      <th>3</th>\n",
       "      <td>0</td>\n",
       "      <td>incident happened inside train</td>\n",
       "    </tr>\n",
       "    <tr>\n",
       "      <th>4</th>\n",
       "      <td>0</td>\n",
       "      <td>i witnessed incident chain brutally snatched e...</td>\n",
       "    </tr>\n",
       "    <tr>\n",
       "      <th>...</th>\n",
       "      <td>...</td>\n",
       "      <td>...</td>\n",
       "    </tr>\n",
       "    <tr>\n",
       "      <th>7196</th>\n",
       "      <td>1</td>\n",
       "      <td>there person near construction site  probably ...</td>\n",
       "    </tr>\n",
       "    <tr>\n",
       "      <th>7197</th>\n",
       "      <td>0</td>\n",
       "      <td>he threatened making inappropriate conversatio...</td>\n",
       "    </tr>\n",
       "    <tr>\n",
       "      <th>7198</th>\n",
       "      <td>0</td>\n",
       "      <td>happened morning university metro station  guy...</td>\n",
       "    </tr>\n",
       "    <tr>\n",
       "      <th>7199</th>\n",
       "      <td>0</td>\n",
       "      <td>one day aunt returniec frm office    shaunt e ...</td>\n",
       "    </tr>\n",
       "    <tr>\n",
       "      <th>7200</th>\n",
       "      <td>0</td>\n",
       "      <td>victim sxual assault rape</td>\n",
       "    </tr>\n",
       "  </tbody>\n",
       "</table>\n",
       "<p>6493 rows × 2 columns</p>\n",
       "</div>"
      ],
      "text/plain": [
       "      Category                                              lower\n",
       "0            0  was walking along crowded street  holding mums...\n",
       "1            1  this incident took place evening i metro two g...\n",
       "2            0  i was waiting for the bus  a man came on a bik...\n",
       "3            0                     incident happened inside train\n",
       "4            0  i witnessed incident chain brutally snatched e...\n",
       "...        ...                                                ...\n",
       "7196         1  there person near construction site  probably ...\n",
       "7197         0  he threatened making inappropriate conversatio...\n",
       "7198         0  happened morning university metro station  guy...\n",
       "7199         0  one day aunt returniec frm office    shaunt e ...\n",
       "7200         0                          victim sxual assault rape\n",
       "\n",
       "[6493 rows x 2 columns]"
      ]
     },
     "execution_count": 67,
     "metadata": {},
     "output_type": "execute_result"
    }
   ],
   "source": [
    "df_train_og"
   ]
  },
  {
   "cell_type": "code",
   "execution_count": 68,
   "id": "fe273da9",
   "metadata": {},
   "outputs": [
    {
     "data": {
      "text/html": [
       "<div>\n",
       "<style scoped>\n",
       "    .dataframe tbody tr th:only-of-type {\n",
       "        vertical-align: middle;\n",
       "    }\n",
       "\n",
       "    .dataframe tbody tr th {\n",
       "        vertical-align: top;\n",
       "    }\n",
       "\n",
       "    .dataframe thead th {\n",
       "        text-align: right;\n",
       "    }\n",
       "</style>\n",
       "<table border=\"1\" class=\"dataframe\">\n",
       "  <thead>\n",
       "    <tr style=\"text-align: right;\">\n",
       "      <th></th>\n",
       "      <th>Category</th>\n",
       "      <th>lower</th>\n",
       "    </tr>\n",
       "  </thead>\n",
       "  <tbody>\n",
       "    <tr>\n",
       "      <th>0</th>\n",
       "      <td>1</td>\n",
       "      <td>during morning  woman walking thin guy came ar...</td>\n",
       "    </tr>\n",
       "    <tr>\n",
       "      <th>1</th>\n",
       "      <td>0</td>\n",
       "      <td>a man tried brush penis woman s shoulder bus</td>\n",
       "    </tr>\n",
       "    <tr>\n",
       "      <th>2</th>\n",
       "      <td>1</td>\n",
       "      <td>this happened fellow passenger mine travelling...</td>\n",
       "    </tr>\n",
       "    <tr>\n",
       "      <th>3</th>\n",
       "      <td>1</td>\n",
       "      <td>ogling</td>\n",
       "    </tr>\n",
       "    <tr>\n",
       "      <th>4</th>\n",
       "      <td>0</td>\n",
       "      <td>when i returning home finishing class  i queue...</td>\n",
       "    </tr>\n",
       "    <tr>\n",
       "      <th>...</th>\n",
       "      <td>...</td>\n",
       "      <td>...</td>\n",
       "    </tr>\n",
       "    <tr>\n",
       "      <th>1696</th>\n",
       "      <td>0</td>\n",
       "      <td>obscene comments staring</td>\n",
       "    </tr>\n",
       "    <tr>\n",
       "      <th>1697</th>\n",
       "      <td>0</td>\n",
       "      <td>i going friend in metro morning group boys sta...</td>\n",
       "    </tr>\n",
       "    <tr>\n",
       "      <th>1698</th>\n",
       "      <td>0</td>\n",
       "      <td>a person tried grab i walkng railway station  ...</td>\n",
       "    </tr>\n",
       "    <tr>\n",
       "      <th>1699</th>\n",
       "      <td>0</td>\n",
       "      <td>bad people touched private parts ranchibhagalp...</td>\n",
       "    </tr>\n",
       "    <tr>\n",
       "      <th>1700</th>\n",
       "      <td>0</td>\n",
       "      <td>age 16 yearstype harassment catcalls leh market</td>\n",
       "    </tr>\n",
       "  </tbody>\n",
       "</table>\n",
       "<p>1701 rows × 2 columns</p>\n",
       "</div>"
      ],
      "text/plain": [
       "      Category                                              lower\n",
       "0            1  during morning  woman walking thin guy came ar...\n",
       "1            0      a man tried brush penis woman s shoulder bus \n",
       "2            1  this happened fellow passenger mine travelling...\n",
       "3            1                                             ogling\n",
       "4            0  when i returning home finishing class  i queue...\n",
       "...        ...                                                ...\n",
       "1696         0                           obscene comments staring\n",
       "1697         0  i going friend in metro morning group boys sta...\n",
       "1698         0  a person tried grab i walkng railway station  ...\n",
       "1699         0  bad people touched private parts ranchibhagalp...\n",
       "1700         0    age 16 yearstype harassment catcalls leh market\n",
       "\n",
       "[1701 rows x 2 columns]"
      ]
     },
     "execution_count": 68,
     "metadata": {},
     "output_type": "execute_result"
    }
   ],
   "source": [
    "df_test_og"
   ]
  },
  {
   "cell_type": "code",
   "execution_count": 69,
   "id": "53068357",
   "metadata": {},
   "outputs": [],
   "source": [
    "from sklearn.model_selection import train_test_split\n",
    "from sklearn.feature_extraction.text import TfidfVectorizer\n",
    "from sklearn.linear_model import LogisticRegression\n",
    "from imblearn import under_sampling, over_sampling\n",
    "from sklearn.metrics import roc_auc_score\n",
    "from imblearn.over_sampling import SMOTE\n",
    "from sklearn.metrics import accuracy_score\n",
    "from scipy.sparse import hstack\n",
    "sm_model = SMOTE(sampling_strategy='minority')\n",
    "\n",
    "def Logistic_pipeline(data,test):\n",
    "    X = data['lower']\n",
    "    y = data['Category']\n",
    "    X_test = test['lower']\n",
    "    y_test = test['Category']\n",
    "    #X_train,X_test,y_train,y_test = train_test_split(X,y,test_size=0.25)\n",
    "    \n",
    "    vect = TfidfVectorizer(ngram_range=(1,3),min_df=15,max_features=500,stop_words='english')\n",
    "    X = vect.fit_transform(X.values)\n",
    "    X_test = vect.transform(X_test)\n",
    "    #X,y = sm_model.fit_resample(X, y)\n",
    "    clf = LogisticRegression(random_state=0).fit(X, y)\n",
    "    ypred = clf.predict(X_test)\n",
    "    score = roc_auc_score(ypred,y_test)\n",
    "    print(score)\n",
    "    accuracy = accuracy_score(y_test, ypred)\n",
    "    print(accuracy)"
   ]
  },
  {
   "cell_type": "code",
   "execution_count": 70,
   "id": "0cccd0a1",
   "metadata": {},
   "outputs": [
    {
     "name": "stdout",
     "output_type": "stream",
     "text": [
      "0.8360014159848961\n",
      "0.8253968253968254\n"
     ]
    }
   ],
   "source": [
    "Logistic_pipeline(df_train_og,df_test_og)"
   ]
  },
  {
   "cell_type": "code",
   "execution_count": 71,
   "id": "82b0bbf2",
   "metadata": {},
   "outputs": [
    {
     "data": {
      "text/html": [
       "<div>\n",
       "<style scoped>\n",
       "    .dataframe tbody tr th:only-of-type {\n",
       "        vertical-align: middle;\n",
       "    }\n",
       "\n",
       "    .dataframe tbody tr th {\n",
       "        vertical-align: top;\n",
       "    }\n",
       "\n",
       "    .dataframe thead th {\n",
       "        text-align: right;\n",
       "    }\n",
       "</style>\n",
       "<table border=\"1\" class=\"dataframe\">\n",
       "  <thead>\n",
       "    <tr style=\"text-align: right;\">\n",
       "      <th></th>\n",
       "      <th>Category</th>\n",
       "      <th>lower</th>\n",
       "    </tr>\n",
       "  </thead>\n",
       "  <tbody>\n",
       "    <tr>\n",
       "      <th>0</th>\n",
       "      <td>0</td>\n",
       "      <td>during morning  woman walking thin guy came ar...</td>\n",
       "    </tr>\n",
       "    <tr>\n",
       "      <th>1</th>\n",
       "      <td>1</td>\n",
       "      <td>a man tried brush penis woman s shoulder bus</td>\n",
       "    </tr>\n",
       "    <tr>\n",
       "      <th>2</th>\n",
       "      <td>0</td>\n",
       "      <td>this happened fellow passenger mine travelling...</td>\n",
       "    </tr>\n",
       "    <tr>\n",
       "      <th>3</th>\n",
       "      <td>0</td>\n",
       "      <td>ogling</td>\n",
       "    </tr>\n",
       "    <tr>\n",
       "      <th>4</th>\n",
       "      <td>1</td>\n",
       "      <td>when i returning home finishing class  i queue...</td>\n",
       "    </tr>\n",
       "    <tr>\n",
       "      <th>...</th>\n",
       "      <td>...</td>\n",
       "      <td>...</td>\n",
       "    </tr>\n",
       "    <tr>\n",
       "      <th>1696</th>\n",
       "      <td>0</td>\n",
       "      <td>obscene comments staring</td>\n",
       "    </tr>\n",
       "    <tr>\n",
       "      <th>1697</th>\n",
       "      <td>1</td>\n",
       "      <td>i going friend in metro morning group boys sta...</td>\n",
       "    </tr>\n",
       "    <tr>\n",
       "      <th>1698</th>\n",
       "      <td>1</td>\n",
       "      <td>a person tried grab i walkng railway station  ...</td>\n",
       "    </tr>\n",
       "    <tr>\n",
       "      <th>1699</th>\n",
       "      <td>1</td>\n",
       "      <td>bad people touched private parts ranchibhagalp...</td>\n",
       "    </tr>\n",
       "    <tr>\n",
       "      <th>1700</th>\n",
       "      <td>0</td>\n",
       "      <td>age 16 yearstype harassment catcalls leh market</td>\n",
       "    </tr>\n",
       "  </tbody>\n",
       "</table>\n",
       "<p>1701 rows × 2 columns</p>\n",
       "</div>"
      ],
      "text/plain": [
       "      Category                                              lower\n",
       "0            0  during morning  woman walking thin guy came ar...\n",
       "1            1      a man tried brush penis woman s shoulder bus \n",
       "2            0  this happened fellow passenger mine travelling...\n",
       "3            0                                             ogling\n",
       "4            1  when i returning home finishing class  i queue...\n",
       "...        ...                                                ...\n",
       "1696         0                           obscene comments staring\n",
       "1697         1  i going friend in metro morning group boys sta...\n",
       "1698         1  a person tried grab i walkng railway station  ...\n",
       "1699         1  bad people touched private parts ranchibhagalp...\n",
       "1700         0    age 16 yearstype harassment catcalls leh market\n",
       "\n",
       "[1701 rows x 2 columns]"
      ]
     },
     "execution_count": 71,
     "metadata": {},
     "output_type": "execute_result"
    }
   ],
   "source": [
    "#grouping\n",
    "df_train_go['lower'] = preprocess(df_train_go)\n",
    "df_train_go.drop(['Description'],axis=1)\n",
    "df_test_go['lower'] = preprocess(df_test_go)\n",
    "df_test_go.drop(['Description'],axis=1)"
   ]
  },
  {
   "cell_type": "code",
   "execution_count": 72,
   "id": "3d742e93",
   "metadata": {},
   "outputs": [
    {
     "name": "stdout",
     "output_type": "stream",
     "text": [
      "0.8559058742304816\n",
      "0.84891240446796\n"
     ]
    }
   ],
   "source": [
    "Logistic_pipeline(df_train_go,df_test_go)\n"
   ]
  },
  {
   "cell_type": "code",
   "execution_count": 73,
   "id": "085ad700",
   "metadata": {},
   "outputs": [
    {
     "data": {
      "text/html": [
       "<div>\n",
       "<style scoped>\n",
       "    .dataframe tbody tr th:only-of-type {\n",
       "        vertical-align: middle;\n",
       "    }\n",
       "\n",
       "    .dataframe tbody tr th {\n",
       "        vertical-align: top;\n",
       "    }\n",
       "\n",
       "    .dataframe thead th {\n",
       "        text-align: right;\n",
       "    }\n",
       "</style>\n",
       "<table border=\"1\" class=\"dataframe\">\n",
       "  <thead>\n",
       "    <tr style=\"text-align: right;\">\n",
       "      <th></th>\n",
       "      <th>Category</th>\n",
       "      <th>lower</th>\n",
       "    </tr>\n",
       "  </thead>\n",
       "  <tbody>\n",
       "    <tr>\n",
       "      <th>0</th>\n",
       "      <td>1</td>\n",
       "      <td>during morning  woman walking thin guy came ar...</td>\n",
       "    </tr>\n",
       "    <tr>\n",
       "      <th>1</th>\n",
       "      <td>0</td>\n",
       "      <td>a man tried brush penis woman s shoulder bus</td>\n",
       "    </tr>\n",
       "    <tr>\n",
       "      <th>2</th>\n",
       "      <td>0</td>\n",
       "      <td>this happened fellow passenger mine travelling...</td>\n",
       "    </tr>\n",
       "    <tr>\n",
       "      <th>3</th>\n",
       "      <td>0</td>\n",
       "      <td>ogling</td>\n",
       "    </tr>\n",
       "    <tr>\n",
       "      <th>4</th>\n",
       "      <td>0</td>\n",
       "      <td>when i returning home finishing class  i queue...</td>\n",
       "    </tr>\n",
       "    <tr>\n",
       "      <th>...</th>\n",
       "      <td>...</td>\n",
       "      <td>...</td>\n",
       "    </tr>\n",
       "    <tr>\n",
       "      <th>1696</th>\n",
       "      <td>1</td>\n",
       "      <td>obscene comments staring</td>\n",
       "    </tr>\n",
       "    <tr>\n",
       "      <th>1697</th>\n",
       "      <td>1</td>\n",
       "      <td>i going friend in metro morning group boys sta...</td>\n",
       "    </tr>\n",
       "    <tr>\n",
       "      <th>1698</th>\n",
       "      <td>0</td>\n",
       "      <td>a person tried grab i walkng railway station  ...</td>\n",
       "    </tr>\n",
       "    <tr>\n",
       "      <th>1699</th>\n",
       "      <td>0</td>\n",
       "      <td>bad people touched private parts ranchibhagalp...</td>\n",
       "    </tr>\n",
       "    <tr>\n",
       "      <th>1700</th>\n",
       "      <td>0</td>\n",
       "      <td>age 16 yearstype harassment catcalls leh market</td>\n",
       "    </tr>\n",
       "  </tbody>\n",
       "</table>\n",
       "<p>1701 rows × 2 columns</p>\n",
       "</div>"
      ],
      "text/plain": [
       "      Category                                              lower\n",
       "0            1  during morning  woman walking thin guy came ar...\n",
       "1            0      a man tried brush penis woman s shoulder bus \n",
       "2            0  this happened fellow passenger mine travelling...\n",
       "3            0                                             ogling\n",
       "4            0  when i returning home finishing class  i queue...\n",
       "...        ...                                                ...\n",
       "1696         1                           obscene comments staring\n",
       "1697         1  i going friend in metro morning group boys sta...\n",
       "1698         0  a person tried grab i walkng railway station  ...\n",
       "1699         0  bad people touched private parts ranchibhagalp...\n",
       "1700         0    age 16 yearstype harassment catcalls leh market\n",
       "\n",
       "[1701 rows x 2 columns]"
      ]
     },
     "execution_count": 73,
     "metadata": {},
     "output_type": "execute_result"
    }
   ],
   "source": [
    "#commenting\n",
    "df_train_co['lower'] = preprocess(df_train_co)\n",
    "df_train_co.drop(['Description'],axis=1)\n",
    "df_test_co['lower'] = preprocess(df_test_co)\n",
    "df_test_co.drop(['Description'],axis=1)"
   ]
  },
  {
   "cell_type": "code",
   "execution_count": 74,
   "id": "3e9f9baa",
   "metadata": {},
   "outputs": [
    {
     "name": "stdout",
     "output_type": "stream",
     "text": [
      "Logistic regression ROC and accuracy scores are\n",
      "0.8067470812100883\n",
      "0.7918871252204586\n"
     ]
    }
   ],
   "source": [
    "print('Logistic regression ROC and accuracy scores are')\n",
    "Logistic_pipeline(df_train_co,df_test_co)"
   ]
  },
  {
   "cell_type": "code",
   "execution_count": 75,
   "id": "a504a9fc",
   "metadata": {},
   "outputs": [],
   "source": [
    "import pickle\n",
    "pickle.dump(Logistic_pipeline, open('model_prediction.pkl', 'wb'))"
   ]
  },
  {
   "cell_type": "code",
   "execution_count": null,
   "id": "868c1e30",
   "metadata": {},
   "outputs": [],
   "source": []
  },
  {
   "cell_type": "code",
   "execution_count": null,
   "id": "f886ffb6",
   "metadata": {},
   "outputs": [],
   "source": []
  }
 ],
 "metadata": {
  "kernelspec": {
   "display_name": "Python 3",
   "language": "python",
   "name": "python3"
  },
  "language_info": {
   "codemirror_mode": {
    "name": "ipython",
    "version": 3
   },
   "file_extension": ".py",
   "mimetype": "text/x-python",
   "name": "python",
   "nbconvert_exporter": "python",
   "pygments_lexer": "ipython3",
   "version": "3.8.8"
  }
 },
 "nbformat": 4,
 "nbformat_minor": 5
}
